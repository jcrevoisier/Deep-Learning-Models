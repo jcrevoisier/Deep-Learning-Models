{
 "cells": [
  {
   "cell_type": "markdown",
   "metadata": {},
   "source": [
    "# CAT vs Non Cat Recognition "
   ]
  },
  {
   "cell_type": "markdown",
   "metadata": {},
   "source": [
    "## Neural Network application"
   ]
  },
  {
   "cell_type": "markdown",
   "metadata": {},
   "source": [
    "Introduction"
   ]
  },
  {
   "cell_type": "markdown",
   "metadata": {},
   "source": [
    "Import Required Libraries"
   ]
  },
  {
   "cell_type": "code",
   "execution_count": 4,
   "metadata": {},
   "outputs": [],
   "source": [
    "import numpy as np\n",
    "import matplotlib.pyplot as plt\n",
    "import DNN_Util as util\n",
    "from PIL import Image"
   ]
  },
  {
   "cell_type": "markdown",
   "metadata": {},
   "source": [
    "neural_network() -  Implements a neural network: ReLu activation up to Layer L-1 and then Sigmoid for Layer L\n",
    "        \n",
    "        X -- Input data #(nb_examples, nb_px * nb_px * 3)\n",
    "        Y -- Labels vector (0 = Cat, 1 = Not Cat) #(1, nb_examples)\n",
    "        layers_dims -- list containing each layer size #(number of layers)\n",
    "        learning_rate -- learning rate for gradient descent\n",
    "        num_iterations -- number of iterations for the training loop\n",
    "        print_cost -- if True, it prints the cost every 100 steps\n",
    "        \n",
    "        parameters -- parameters learnt by the model."
   ]
  },
  {
   "cell_type": "code",
   "execution_count": null,
   "metadata": {},
   "outputs": [],
   "source": [
    "def neural_network(X, Y, layers_dims, learning_rate = 0.0075, num_iterations = 3000, print_cost=False):\n",
    "    np.random.seed(7)\n",
    "    costs = [] \n",
    "    \n",
    "    # Parameters initialization\n",
    "    parameters = util.initialize_parameters(layers_dims)\n",
    "    \n",
    "    # Training Loop\n",
    "    for i in range(0, num_iterations):\n",
    "\n",
    "        # Forward propagation\n",
    "        out, caches = util.forward_propagation(X, parameters)\n",
    "        \n",
    "        # Cost Function\n",
    "        cost = util.compute_cost(out, Y)\n",
    "    \n",
    "        # Backward propagation\n",
    "        gradients = util.backward_propagation(out, Y, caches)\n",
    " \n",
    "        # Update parameters\n",
    "        parameters = util.update_parameters(parameters, gradients, learning_rate)\n",
    "                \n",
    "        # Print the cost every 100 training example\n",
    "        if print_cost and i % 100 == 0:\n",
    "            print (\"Cost after iteration %i: %f\" %(i, cost))\n",
    "        if print_cost and i % 100 == 0:\n",
    "            costs.append(cost)\n",
    "            \n",
    "    # plot the cost\n",
    "    plt.plot(np.squeeze(costs))\n",
    "    plt.ylabel('cost')\n",
    "    plt.xlabel('iterations (per tens)')\n",
    "    plt.title(\"Learning rate =\" + str(learning_rate))\n",
    "    plt.show()\n",
    "    \n",
    "    return parameters"
   ]
  },
  {
   "cell_type": "markdown",
   "metadata": {},
   "source": [
    "Import Data"
   ]
  },
  {
   "cell_type": "code",
   "execution_count": 7,
   "metadata": {},
   "outputs": [
    {
     "name": "stdout",
     "output_type": "stream",
     "text": [
      "\n",
      " DATA \n",
      "\n",
      "Number of training examples: 209\n",
      "Number of testing examples: 50\n",
      "Each image is of size: (64, 64, 3)\n",
      "train_x_orig shape: (209, 64, 64, 3)\n",
      "train_y shape: (1, 209)\n",
      "test_x_orig shape: (50, 64, 64, 3)\n",
      "test_y shape: (1, 50)\n",
      "train_x's shape after flattening: (12288, 209)\n",
      "test_x's shape after flattening: (12288, 50)\n"
     ]
    }
   ],
   "source": [
    "train_x_orig, train_y, test_x_orig, test_y, classes = util.load_data('datasets/train_catvnoncat.h5', 'datasets/test_catvnoncat.h5')\n",
    "m_train = train_x_orig.shape[0]\n",
    "m_test = test_x_orig.shape[0]\n",
    "num_px = train_x_orig.shape[1]\n",
    "\n",
    "print(\"\\n DATA \\n\")\n",
    "print (\"Number of training examples: \" + str(m_train))\n",
    "print (\"Number of testing examples: \" + str(m_test))\n",
    "print (\"Each image is of size: (\" + str(num_px) + \", \" + str(num_px) + \", 3)\")\n",
    "print (\"train_x_orig shape: \" + str(train_x_orig.shape))\n",
    "print (\"train_y shape: \" + str(train_y.shape))\n",
    "print (\"test_x_orig shape: \" + str(test_x_orig.shape))\n",
    "print (\"test_y shape: \" + str(test_y.shape))\n",
    "\n",
    "# Reshape the training and test examples \n",
    "train_x_flatten = train_x_orig.reshape(train_x_orig.shape[0], -1).T   # The \"-1\" makes reshape flatten the remaining dimensions\n",
    "test_x_flatten = test_x_orig.reshape(test_x_orig.shape[0], -1).T\n",
    "\n",
    "# Standardize data to have feature values between 0 and 1.\n",
    "train_x = train_x_flatten/255.\n",
    "test_x = test_x_flatten/255.\n",
    "\n",
    "print (\"train_x's shape after flattening: \" + str(train_x.shape))\n",
    "print (\"test_x's shape after flattening: \" + str(test_x.shape))\n"
   ]
  },
  {
   "cell_type": "code",
   "execution_count": null,
   "metadata": {},
   "outputs": [],
   "source": [
    "\n",
    "### CONSTANTS DEFINING THE MODEL ####\n",
    "n_x = 12288     # num_px * num_px * 3\n",
    "n_h1 = 20\n",
    "n_h2 = 7\n",
    "n_h3 = 5\n",
    "n_y = 1\n",
    "layers_dims = [n_x, n_h1, n_h2, n_h3, n_y] #  4-layer model    \n",
    "\n",
    "### MODEL TRAINING AND EVALUATION ####\n",
    "print(\"\\n LEARNING \\n\")\n",
    "parameters = neural_network(train_x, train_y, layers_dims, num_iterations = 1000, print_cost = True)\n",
    "print(\"\\n MODEL ACCURACY \\n\")\n",
    "pred_train = util.predict(train_x, train_y, parameters)\n",
    "pred_test = util.predict(test_x, test_y, parameters)  \n",
    "\n",
    "### EXAMPLE ####\n",
    "fname = \"images/cat2.jpg\"\n",
    "label_y = [1]\n",
    "\n",
    "image = np.array(plt.imread(fname))\n",
    "image = np.array(Image.fromarray(image).resize(size=(num_px,num_px)))\n",
    "#my_image = scipy.misc.imresize(image, size=(num_px,num_px)).reshape((num_px*num_px*3,1))\n",
    "\n",
    "plt.imshow(image)\n",
    "\n",
    "image = image.reshape((num_px*num_px*3,1))/255\n",
    "\n",
    "my_predicted_image = util.predict(image, label_y, parameters)    \n",
    "print (\"y = \" + str(np.squeeze(my_predicted_image)) + \", L-layer model predicts a \\\"\" + classes[int(np.squeeze(my_predicted_image)),].decode(\"utf-8\") +  \"\\\" picture.\")"
   ]
  },
  {
   "cell_type": "code",
   "execution_count": null,
   "metadata": {},
   "outputs": [],
   "source": []
  },
  {
   "cell_type": "code",
   "execution_count": null,
   "metadata": {},
   "outputs": [],
   "source": []
  }
 ],
 "metadata": {
  "kernelspec": {
   "display_name": "Python 3",
   "language": "python",
   "name": "python3"
  },
  "language_info": {
   "codemirror_mode": {
    "name": "ipython",
    "version": 3
   },
   "file_extension": ".py",
   "mimetype": "text/x-python",
   "name": "python",
   "nbconvert_exporter": "python",
   "pygments_lexer": "ipython3",
   "version": "3.7.3"
  }
 },
 "nbformat": 4,
 "nbformat_minor": 2
}
